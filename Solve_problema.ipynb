{
  "nbformat": 4,
  "nbformat_minor": 0,
  "metadata": {
    "colab": {
      "provenance": []
    },
    "kernelspec": {
      "name": "python3",
      "display_name": "Python 3"
    },
    "language_info": {
      "name": "python"
    }
  },
  "cells": [
    {
      "cell_type": "markdown",
      "source": [
        "##Solución sin captura (C(t))"
      ],
      "metadata": {
        "id": "pcmNIysMz4gh"
      }
    },
    {
      "cell_type": "code",
      "execution_count": 2,
      "metadata": {
        "id": "HUXAlYvnTFyU"
      },
      "outputs": [],
      "source": [
        "from sympy import symbols\n",
        "\n",
        "t = symbols('t')"
      ]
    },
    {
      "cell_type": "code",
      "source": [
        "r, K = symbols('r K')"
      ],
      "metadata": {
        "id": "0UInuhZqxD1N"
      },
      "execution_count": 9,
      "outputs": []
    },
    {
      "cell_type": "code",
      "source": [
        "expr = t + 1\n",
        "expr"
      ],
      "metadata": {
        "colab": {
          "base_uri": "https://localhost:8080/",
          "height": 38
        },
        "id": "lzNaZVlDvDA-",
        "outputId": "cb4c4447-df5e-4445-bfa0-70c6668e7ee0"
      },
      "execution_count": 3,
      "outputs": [
        {
          "output_type": "execute_result",
          "data": {
            "text/plain": [
              "t + 1"
            ],
            "text/latex": "$\\displaystyle t + 1$"
          },
          "metadata": {},
          "execution_count": 3
        }
      ]
    },
    {
      "cell_type": "code",
      "source": [
        "from sympy import Function\n",
        "\n",
        "N = Function('N')\n",
        "N"
      ],
      "metadata": {
        "colab": {
          "base_uri": "https://localhost:8080/"
        },
        "id": "6782vw2hwPbO",
        "outputId": "ed882bec-7bf1-4d8d-cfd1-606703e777cb"
      },
      "execution_count": 21,
      "outputs": [
        {
          "output_type": "execute_result",
          "data": {
            "text/plain": [
              "N"
            ]
          },
          "metadata": {},
          "execution_count": 21
        }
      ]
    },
    {
      "cell_type": "code",
      "source": [
        "c = Function('c')\n",
        "c"
      ],
      "metadata": {
        "colab": {
          "base_uri": "https://localhost:8080/"
        },
        "id": "GPnK5rwNwYUG",
        "outputId": "a9c9846a-88a7-4706-861a-e9b7fae8222f"
      },
      "execution_count": 5,
      "outputs": [
        {
          "output_type": "execute_result",
          "data": {
            "text/plain": [
              "c"
            ]
          },
          "metadata": {},
          "execution_count": 5
        }
      ]
    },
    {
      "cell_type": "code",
      "source": [
        "from sympy import diff\n",
        "\n",
        "dNdt = diff(N(t), t)\n",
        "dNdt"
      ],
      "metadata": {
        "colab": {
          "base_uri": "https://localhost:8080/",
          "height": 52
        },
        "id": "Xx7GhjS3wgiF",
        "outputId": "0928d660-cdce-443e-ad38-0d6eca82154b"
      },
      "execution_count": 22,
      "outputs": [
        {
          "output_type": "execute_result",
          "data": {
            "text/plain": [
              "Derivative(N(t), t)"
            ],
            "text/latex": "$\\displaystyle \\frac{d}{d t} N{\\left(t \\right)}$"
          },
          "metadata": {},
          "execution_count": 22
        }
      ]
    },
    {
      "cell_type": "code",
      "source": [
        "#Definiendo la ecuación\n",
        "from sympy import Eq\n",
        "\n",
        "eq1 = Eq(diff(N(t), t), N(t) + r * N(t) * (1 - N(t)/K))\n",
        "eq1"
      ],
      "metadata": {
        "colab": {
          "base_uri": "https://localhost:8080/",
          "height": 58
        },
        "id": "1OtFG87Dwxcv",
        "outputId": "6dee53a4-7f23-4615-f1af-b8b3cdbe0f5d"
      },
      "execution_count": 23,
      "outputs": [
        {
          "output_type": "execute_result",
          "data": {
            "text/plain": [
              "Eq(Derivative(N(t), t), r*(1 - N(t)/K)*N(t) + N(t))"
            ],
            "text/latex": "$\\displaystyle \\frac{d}{d t} N{\\left(t \\right)} = r \\left(1 - \\frac{N{\\left(t \\right)}}{K}\\right) N{\\left(t \\right)} + N{\\left(t \\right)}$"
          },
          "metadata": {},
          "execution_count": 23
        }
      ]
    },
    {
      "cell_type": "code",
      "source": [
        "#Solución de la ecuación\n",
        "from sympy import dsolve\n",
        "\n",
        "solution_eq = dsolve(eq1)\n",
        "solution_eq"
      ],
      "metadata": {
        "colab": {
          "base_uri": "https://localhost:8080/",
          "height": 57
        },
        "id": "SxW5nWG1xgW5",
        "outputId": "eb151e6e-5276-49ff-f202-f895c3604459"
      },
      "execution_count": 24,
      "outputs": [
        {
          "output_type": "execute_result",
          "data": {
            "text/plain": [
              "Eq(N(t), K*(1 + 1/r)*exp(C1*K*r + C1*K + r*t + t)/(exp(C1*K*r + C1*K + r*t + t) - 1))"
            ],
            "text/latex": "$\\displaystyle N{\\left(t \\right)} = \\frac{K \\left(1 + \\frac{1}{r}\\right) e^{C_{1} K r + C_{1} K + r t + t}}{e^{C_{1} K r + C_{1} K + r t + t} - 1}$"
          },
          "metadata": {},
          "execution_count": 24
        }
      ]
    },
    {
      "cell_type": "code",
      "source": [
        "C1 = symbols('C1')"
      ],
      "metadata": {
        "id": "sZF6XilbyDeg"
      },
      "execution_count": 25,
      "outputs": []
    },
    {
      "cell_type": "code",
      "source": [
        "#parte derecha\n",
        "general = solution_eq.rhs\n",
        "general"
      ],
      "metadata": {
        "colab": {
          "base_uri": "https://localhost:8080/",
          "height": 57
        },
        "id": "v9h9r7pfyQNO",
        "outputId": "d2be1232-5b0f-47ea-b75e-564c7984401d"
      },
      "execution_count": 26,
      "outputs": [
        {
          "output_type": "execute_result",
          "data": {
            "text/plain": [
              "K*(1 + 1/r)*exp(C1*K*r + C1*K + r*t + t)/(exp(C1*K*r + C1*K + r*t + t) - 1)"
            ],
            "text/latex": "$\\displaystyle \\frac{K \\left(1 + \\frac{1}{r}\\right) e^{C_{1} K r + C_{1} K + r t + t}}{e^{C_{1} K r + C_{1} K + r t + t} - 1}$"
          },
          "metadata": {},
          "execution_count": 26
        }
      ]
    },
    {
      "cell_type": "code",
      "source": [
        "#evaluando cuando t=0\n",
        "at_0 = general.subs(t, 0)\n",
        "at_0"
      ],
      "metadata": {
        "colab": {
          "base_uri": "https://localhost:8080/",
          "height": 57
        },
        "id": "YZisxgr_yYYK",
        "outputId": "e1ada0ff-8190-49a8-f83e-b112482a2177"
      },
      "execution_count": 27,
      "outputs": [
        {
          "output_type": "execute_result",
          "data": {
            "text/plain": [
              "K*(1 + 1/r)*exp(C1*K*r + C1*K)/(exp(C1*K*r + C1*K) - 1)"
            ],
            "text/latex": "$\\displaystyle \\frac{K \\left(1 + \\frac{1}{r}\\right) e^{C_{1} K r + C_{1} K}}{e^{C_{1} K r + C_{1} K} - 1}$"
          },
          "metadata": {},
          "execution_count": 27
        }
      ]
    },
    {
      "cell_type": "markdown",
      "source": [
        "###Hallando el valor de C1 cuando f(0) = p_0"
      ],
      "metadata": {
        "id": "TdTGT-OU3qUR"
      }
    },
    {
      "cell_type": "code",
      "source": [
        "from sympy import solve\n",
        "\n",
        "p_0 = symbols('p_0')\n",
        "solutions = solve(Eq(at_0, p_0), C1)"
      ],
      "metadata": {
        "id": "wC1XinQayjav"
      },
      "execution_count": 28,
      "outputs": []
    },
    {
      "cell_type": "code",
      "source": [
        "type(solutions), len(solutions)"
      ],
      "metadata": {
        "colab": {
          "base_uri": "https://localhost:8080/"
        },
        "id": "dl-QWYMpyrQ2",
        "outputId": "44f838ff-010a-482d-9d0d-03e9a7194bd6"
      },
      "execution_count": 29,
      "outputs": [
        {
          "output_type": "execute_result",
          "data": {
            "text/plain": [
              "(list, 1)"
            ]
          },
          "metadata": {},
          "execution_count": 29
        }
      ]
    },
    {
      "cell_type": "code",
      "source": [
        "value_of_C1 = solutions[0]\n",
        "value_of_C1"
      ],
      "metadata": {
        "colab": {
          "base_uri": "https://localhost:8080/",
          "height": 70
        },
        "id": "NXN9XDP-ytwG",
        "outputId": "3239f63a-fc4b-4512-eb34-b6e8c7bf9565"
      },
      "execution_count": 30,
      "outputs": [
        {
          "output_type": "execute_result",
          "data": {
            "text/plain": [
              "log(-p_0*r/(K*r + K - p_0*r))/(K*(r + 1))"
            ],
            "text/latex": "$\\displaystyle \\frac{\\log{\\left(- \\frac{p_{0} r}{K r + K - p_{0} r} \\right)}}{K \\left(r + 1\\right)}$"
          },
          "metadata": {},
          "execution_count": 30
        }
      ]
    },
    {
      "cell_type": "code",
      "source": [
        "particular = general.subs(C1, value_of_C1)\n",
        "particular"
      ],
      "metadata": {
        "colab": {
          "base_uri": "https://localhost:8080/",
          "height": 87
        },
        "id": "UJoMpN-BywDG",
        "outputId": "2961b80b-e167-4183-ea2b-8520759f4fb7"
      },
      "execution_count": 31,
      "outputs": [
        {
          "output_type": "execute_result",
          "data": {
            "text/plain": [
              "K*(1 + 1/r)*exp(r*t + r*log(-p_0*r/(K*r + K - p_0*r))/(r + 1) + t + log(-p_0*r/(K*r + K - p_0*r))/(r + 1))/(exp(r*t + r*log(-p_0*r/(K*r + K - p_0*r))/(r + 1) + t + log(-p_0*r/(K*r + K - p_0*r))/(r + 1)) - 1)"
            ],
            "text/latex": "$\\displaystyle \\frac{K \\left(1 + \\frac{1}{r}\\right) e^{r t + \\frac{r \\log{\\left(- \\frac{p_{0} r}{K r + K - p_{0} r} \\right)}}{r + 1} + t + \\frac{\\log{\\left(- \\frac{p_{0} r}{K r + K - p_{0} r} \\right)}}{r + 1}}}{e^{r t + \\frac{r \\log{\\left(- \\frac{p_{0} r}{K r + K - p_{0} r} \\right)}}{r + 1} + t + \\frac{\\log{\\left(- \\frac{p_{0} r}{K r + K - p_{0} r} \\right)}}{r + 1}} - 1}$"
          },
          "metadata": {},
          "execution_count": 31
        }
      ]
    },
    {
      "cell_type": "code",
      "source": [
        "simpler = particular.simplify()\n",
        "simpler"
      ],
      "metadata": {
        "colab": {
          "base_uri": "https://localhost:8080/",
          "height": 107
        },
        "id": "ajDfkt4oy1To",
        "outputId": "7d33b802-c1a4-41c6-c3fa-43d21af75b57"
      },
      "execution_count": 32,
      "outputs": [
        {
          "output_type": "execute_result",
          "data": {
            "text/plain": [
              "K*(r + 1)*exp((r*log(-p_0*r/(K*r + K - p_0*r)) + t*(r + 1)**2 + log(-p_0*r/(K*r + K - p_0*r)))/(r + 1))/(r*(exp((r*log(-p_0*r/(K*r + K - p_0*r)) + t*(r + 1)**2 + log(-p_0*r/(K*r + K - p_0*r)))/(r + 1)) - 1))"
            ],
            "text/latex": "$\\displaystyle \\frac{K \\left(r + 1\\right) e^{\\frac{r \\log{\\left(- \\frac{p_{0} r}{K r + K - p_{0} r} \\right)} + t \\left(r + 1\\right)^{2} + \\log{\\left(- \\frac{p_{0} r}{K r + K - p_{0} r} \\right)}}{r + 1}}}{r \\left(e^{\\frac{r \\log{\\left(- \\frac{p_{0} r}{K r + K - p_{0} r} \\right)} + t \\left(r + 1\\right)^{2} + \\log{\\left(- \\frac{p_{0} r}{K r + K - p_{0} r} \\right)}}{r + 1}} - 1\\right)}$"
          },
          "metadata": {},
          "execution_count": 32
        }
      ]
    },
    {
      "cell_type": "code",
      "source": [],
      "metadata": {
        "id": "OYYJJN-ay5tO"
      },
      "execution_count": null,
      "outputs": []
    }
  ]
}